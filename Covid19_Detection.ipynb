{
  "nbformat": 4,
  "nbformat_minor": 0,
  "metadata": {
    "colab": {
      "name": "Covid19_Detection.ipynb",
      "provenance": [],
      "authorship_tag": "ABX9TyNW0nmOJNHJOGzPwQXAKeTI"
    },
    "kernelspec": {
      "name": "python3",
      "display_name": "Python 3"
    }
  },
  "cells": [
    {
      "cell_type": "code",
      "metadata": {
        "id": "kg-DUBnHBwFa",
        "colab_type": "code",
        "colab": {}
      },
      "source": [
        "#Dataset : http://cb.lk/covid_19\n",
        "!wget http://cb.lk/covid_19"
      ],
      "execution_count": 0,
      "outputs": []
    },
    {
      "cell_type": "code",
      "metadata": {
        "id": "oPmRQzATDBbN",
        "colab_type": "code",
        "colab": {}
      },
      "source": [
        "!unzip covid_19"
      ],
      "execution_count": 0,
      "outputs": []
    },
    {
      "cell_type": "code",
      "metadata": {
        "id": "NV1ghuIUD10y",
        "colab_type": "code",
        "colab": {}
      },
      "source": [
        "Train_Path='CovidDataset/Train'\n",
        "Val_Path='CovidDataset/Val'\n"
      ],
      "execution_count": 0,
      "outputs": []
    },
    {
      "cell_type": "code",
      "metadata": {
        "id": "mrHAcadYEW-g",
        "colab_type": "code",
        "colab": {}
      },
      "source": [
        "import keras\n",
        "from keras.layers import *\n",
        "from keras.models import *\n",
        "from keras.preprocessing import image\n",
        "import numpy as np\n",
        "import matplotlib.pyplot as plt\n"
      ],
      "execution_count": 0,
      "outputs": []
    },
    {
      "cell_type": "code",
      "metadata": {
        "id": "flIP9g7XE3oq",
        "colab_type": "code",
        "colab": {}
      },
      "source": [
        "#CNN based model on keras.\n",
        "#the choice of adding convolution or pooling layer is totally up to your choice\n",
        "model=Sequential()\n",
        "model.add(Conv2D(32,kernel_size=(3,3),activation='relu',input_shape=(224,224,3)))\n",
        "model.add(Conv2D(64,(3,3),activation='relu'))\n",
        "model.add(MaxPooling2D(pool_size=(2,2)))\n",
        "model.add(Dropout(0.25))\n",
        "\n",
        "model.add(Conv2D(64,(3,3),activation='relu'))\n",
        "model.add(MaxPooling2D(pool_size=(2,2)))\n",
        "model.add(Dropout(0.25))\n",
        "\n",
        "model.add(Conv2D(128,(3,3),activation='relu'))\n",
        "model.add(MaxPooling2D(pool_size=(2,2)))\n",
        "model.add(Dropout(0.25))\n",
        "\n",
        "model.add(Flatten())\n",
        "model.add(Dense(64,activation='relu'))\n",
        "model.add(Dropout(0.5))\n",
        "model.add(Dense(1,activation='sigmoid'))\n",
        "\n",
        "model.compile(loss=keras.losses.binary_crossentropy,optimizer='adam',metrics=['accuracy'])\n",
        "\n",
        "\n"
      ],
      "execution_count": 0,
      "outputs": []
    },
    {
      "cell_type": "code",
      "metadata": {
        "id": "XfyPhcHOGuMA",
        "colab_type": "code",
        "colab": {}
      },
      "source": [
        "model.summary()"
      ],
      "execution_count": 0,
      "outputs": []
    },
    {
      "cell_type": "code",
      "metadata": {
        "id": "5IH9ficzGx1k",
        "colab_type": "code",
        "colab": {}
      },
      "source": [
        "#Train from scratch\n",
        "train_datagen=image.ImageDataGenerator(\n",
        "    rescale=1./255,\n",
        "    shear_range=0.2,\n",
        "    zoom_range=0.2,\n",
        "    horizontal_flip=True\n",
        ")\n",
        "test_datagen=image.ImageDataGenerator(rescale=1/255)"
      ],
      "execution_count": 0,
      "outputs": []
    },
    {
      "cell_type": "code",
      "metadata": {
        "id": "faHS9jcaHo_z",
        "colab_type": "code",
        "outputId": "0a464941-37c3-4381-d801-b6d7e33ef94a",
        "colab": {
          "base_uri": "https://localhost:8080/",
          "height": 35
        }
      },
      "source": [
        "train_gen=train_datagen.flow_from_directory(\n",
        "    Train_Path,\n",
        "    target_size=(224,224),\n",
        "    class_mode='binary',\n",
        "    batch_size=32\n",
        ")\n"
      ],
      "execution_count": 0,
      "outputs": [
        {
          "output_type": "stream",
          "text": [
            "Found 224 images belonging to 2 classes.\n"
          ],
          "name": "stdout"
        }
      ]
    },
    {
      "cell_type": "code",
      "metadata": {
        "id": "1hYurk7iIq4a",
        "colab_type": "code",
        "outputId": "5778da4e-690a-4441-feba-5f6ce6c50b0f",
        "colab": {
          "base_uri": "https://localhost:8080/",
          "height": 35
        }
      },
      "source": [
        "train_gen.class_indices"
      ],
      "execution_count": 0,
      "outputs": [
        {
          "output_type": "execute_result",
          "data": {
            "text/plain": [
              "{'Covid': 0, 'Normal': 1}"
            ]
          },
          "metadata": {
            "tags": []
          },
          "execution_count": 19
        }
      ]
    },
    {
      "cell_type": "code",
      "metadata": {
        "id": "vJSUkSS3I2XW",
        "colab_type": "code",
        "outputId": "e784fb40-84fa-4ccc-de07-4f04fdbd7b57",
        "colab": {
          "base_uri": "https://localhost:8080/",
          "height": 35
        }
      },
      "source": [
        "val_gen=test_datagen.flow_from_directory(\n",
        "    Val_Path,\n",
        "    target_size=(224,224),\n",
        "    class_mode='binary',\n",
        "    batch_size=32\n",
        ")"
      ],
      "execution_count": 0,
      "outputs": [
        {
          "output_type": "stream",
          "text": [
            "Found 60 images belonging to 2 classes.\n"
          ],
          "name": "stdout"
        }
      ]
    },
    {
      "cell_type": "code",
      "metadata": {
        "id": "EVGMndxvJQ3z",
        "colab_type": "code",
        "outputId": "9ac72208-68f9-442b-90dc-fc525b76b5ab",
        "colab": {
          "base_uri": "https://localhost:8080/",
          "height": 384
        }
      },
      "source": [
        "hist=model.fit_generator(\n",
        "    train_gen,\n",
        "    steps_per_epoch=8,\n",
        "    epochs=10,\n",
        "    validation_data=val_gen,\n",
        "    validation_steps=2\n",
        ")"
      ],
      "execution_count": 0,
      "outputs": [
        {
          "output_type": "stream",
          "text": [
            "Epoch 1/10\n",
            "8/8 [==============================] - 92s 11s/step - loss: 1.1296 - accuracy: 0.5195 - val_loss: 0.6771 - val_accuracy: 0.5000\n",
            "Epoch 2/10\n",
            "8/8 [==============================] - 78s 10s/step - loss: 0.7004 - accuracy: 0.5312 - val_loss: 0.6837 - val_accuracy: 0.6667\n",
            "Epoch 3/10\n",
            "8/8 [==============================] - 77s 10s/step - loss: 0.6587 - accuracy: 0.6523 - val_loss: 0.5869 - val_accuracy: 0.9333\n",
            "Epoch 4/10\n",
            "8/8 [==============================] - 78s 10s/step - loss: 0.4911 - accuracy: 0.7734 - val_loss: 0.2788 - val_accuracy: 0.9167\n",
            "Epoch 5/10\n",
            "8/8 [==============================] - 78s 10s/step - loss: 0.3791 - accuracy: 0.8516 - val_loss: 0.2333 - val_accuracy: 0.9500\n",
            "Epoch 6/10\n",
            "8/8 [==============================] - 78s 10s/step - loss: 0.2929 - accuracy: 0.8828 - val_loss: 0.1247 - val_accuracy: 0.9333\n",
            "Epoch 7/10\n",
            "8/8 [==============================] - 83s 10s/step - loss: 0.2459 - accuracy: 0.8906 - val_loss: 0.2011 - val_accuracy: 0.9667\n",
            "Epoch 8/10\n",
            "8/8 [==============================] - 81s 10s/step - loss: 0.2053 - accuracy: 0.9531 - val_loss: 0.0367 - val_accuracy: 0.9833\n",
            "Epoch 9/10\n",
            "8/8 [==============================] - 78s 10s/step - loss: 0.1548 - accuracy: 0.9414 - val_loss: 0.0275 - val_accuracy: 0.9667\n",
            "Epoch 10/10\n",
            "8/8 [==============================] - 77s 10s/step - loss: 0.1278 - accuracy: 0.9648 - val_loss: 0.0544 - val_accuracy: 0.9833\n"
          ],
          "name": "stdout"
        }
      ]
    },
    {
      "cell_type": "code",
      "metadata": {
        "id": "KhGGu5KpJzhT",
        "colab_type": "code",
        "outputId": "1159eccc-d6bd-44b8-b433-0d601dcea01a",
        "colab": {
          "base_uri": "https://localhost:8080/",
          "height": 280
        }
      },
      "source": [
        "h=hist.history\n",
        "plt.plot(h['val_accuracy'],label=\"Validation Acc\")\n",
        "plt.plot(h['accuracy'],label=\"Training Acc\")\n",
        "plt.xlabel(\"Epochs\")\n",
        "plt.ylabel(\"Accuracy\")\n",
        "plt.legend()\n",
        "plt.show()"
      ],
      "execution_count": 0,
      "outputs": [
        {
          "output_type": "display_data",
          "data": {
            "image/png": "[encoded data removed]",
            "text/plain": [
              "<Figure size 432x288 with 1 Axes>"
            ]
          },
          "metadata": {
            "tags": [],
            "needs_background": "light"
          }
        }
      ]
    },
    {
      "cell_type": "code",
      "metadata": {
        "id": "6HgLIhonNeLS",
        "colab_type": "code",
        "outputId": "ebd0c807-21d2-490b-98d6-301743cd4486",
        "colab": {
          "base_uri": "https://localhost:8080/",
          "height": 35
        }
      },
      "source": [
        "import os\n",
        "import cv2\n",
        "path=os.path.join(Val_Path,\"Normal/NORMAL2-IM-0395-0001.jpeg\")\n",
        "img = cv2.imread(path)\n",
        "img = cv2.resize(img , (224,224))\n",
        "img = np.expand_dims(img,axis=0)\n",
        "\n",
        "\n",
        "pred = model.predict(img)\n",
        "label = np.argmax(pred[0])\n",
        "print(label)"
      ],
      "execution_count": 0,
      "outputs": [
        {
          "output_type": "stream",
          "text": [
            "0\n"
          ],
          "name": "stdout"
        }
      ]
    },
    {
      "cell_type": "code",
      "metadata": {
        "id": "MysmhRw1UME1",
        "colab_type": "code",
        "colab": {}
      },
      "source": [
        ""
      ],
      "execution_count": 0,
      "outputs": []
    }
  ]
}